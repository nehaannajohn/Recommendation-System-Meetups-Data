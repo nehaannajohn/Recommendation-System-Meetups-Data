{
 "cells": [
  {
   "cell_type": "code",
   "execution_count": 1,
   "metadata": {},
   "outputs": [],
   "source": [
    "import pandas as pd\n",
    "rsvp = pd.read_excel('rsvp.xlsx')\n",
    "member = pd.read_csv('members.csv',encoding='latin-1')\n",
    "events = pd.read_csv('events.csv',encoding='latin-1')"
   ]
  },
  {
   "cell_type": "code",
   "execution_count": 25,
   "metadata": {},
   "outputs": [
    {
     "data": {
      "text/html": [
       "<div>\n",
       "<style scoped>\n",
       "    .dataframe tbody tr th:only-of-type {\n",
       "        vertical-align: middle;\n",
       "    }\n",
       "\n",
       "    .dataframe tbody tr th {\n",
       "        vertical-align: top;\n",
       "    }\n",
       "\n",
       "    .dataframe thead th {\n",
       "        text-align: right;\n",
       "    }\n",
       "</style>\n",
       "<table border=\"1\" class=\"dataframe\">\n",
       "  <thead>\n",
       "    <tr style=\"text-align: right;\">\n",
       "      <th></th>\n",
       "      <th>Unnamed: 0</th>\n",
       "      <th>event_id</th>\n",
       "      <th>member_id</th>\n",
       "    </tr>\n",
       "  </thead>\n",
       "  <tbody>\n",
       "    <tr>\n",
       "      <th>0</th>\n",
       "      <td>0</td>\n",
       "      <td>cqkdxnywnbpc</td>\n",
       "      <td>12067672</td>\n",
       "    </tr>\n",
       "    <tr>\n",
       "      <th>1</th>\n",
       "      <td>1</td>\n",
       "      <td>cqkdxnywnbpc</td>\n",
       "      <td>234733619</td>\n",
       "    </tr>\n",
       "    <tr>\n",
       "      <th>2</th>\n",
       "      <td>2</td>\n",
       "      <td>cqkdxnywnbpc</td>\n",
       "      <td>78357452</td>\n",
       "    </tr>\n",
       "    <tr>\n",
       "      <th>3</th>\n",
       "      <td>3</td>\n",
       "      <td>cqkdxnywnbpc</td>\n",
       "      <td>224346861</td>\n",
       "    </tr>\n",
       "    <tr>\n",
       "      <th>4</th>\n",
       "      <td>4</td>\n",
       "      <td>cqkdxnywnbpc</td>\n",
       "      <td>239059586</td>\n",
       "    </tr>\n",
       "  </tbody>\n",
       "</table>\n",
       "</div>"
      ],
      "text/plain": [
       "   Unnamed: 0      event_id  member_id\n",
       "0           0  cqkdxnywnbpc   12067672\n",
       "1           1  cqkdxnywnbpc  234733619\n",
       "2           2  cqkdxnywnbpc   78357452\n",
       "3           3  cqkdxnywnbpc  224346861\n",
       "4           4  cqkdxnywnbpc  239059586"
      ]
     },
     "execution_count": 25,
     "metadata": {},
     "output_type": "execute_result"
    }
   ],
   "source": [
    "rsvp.head()"
   ]
  },
  {
   "cell_type": "code",
   "execution_count": 3,
   "metadata": {},
   "outputs": [
    {
     "data": {
      "text/html": [
       "<div>\n",
       "<style scoped>\n",
       "    .dataframe tbody tr th:only-of-type {\n",
       "        vertical-align: middle;\n",
       "    }\n",
       "\n",
       "    .dataframe tbody tr th {\n",
       "        vertical-align: top;\n",
       "    }\n",
       "\n",
       "    .dataframe thead th {\n",
       "        text-align: right;\n",
       "    }\n",
       "</style>\n",
       "<table border=\"1\" class=\"dataframe\">\n",
       "  <thead>\n",
       "    <tr style=\"text-align: right;\">\n",
       "      <th></th>\n",
       "      <th>member_id</th>\n",
       "      <th>bio</th>\n",
       "      <th>city</th>\n",
       "      <th>country</th>\n",
       "      <th>hometown</th>\n",
       "      <th>joined</th>\n",
       "      <th>lat</th>\n",
       "      <th>link</th>\n",
       "      <th>lon</th>\n",
       "      <th>member_name</th>\n",
       "      <th>state</th>\n",
       "      <th>member_status</th>\n",
       "      <th>visited</th>\n",
       "      <th>group_id</th>\n",
       "    </tr>\n",
       "  </thead>\n",
       "  <tbody>\n",
       "    <tr>\n",
       "      <th>0</th>\n",
       "      <td>3</td>\n",
       "      <td>not_found</td>\n",
       "      <td>New York</td>\n",
       "      <td>us</td>\n",
       "      <td>New York, NY</td>\n",
       "      <td>2007-05-01 22:04:37</td>\n",
       "      <td>40.72</td>\n",
       "      <td>http://www.meetup.com/members/3</td>\n",
       "      <td>-74.0</td>\n",
       "      <td>Matt Meeker</td>\n",
       "      <td>NY</td>\n",
       "      <td>active</td>\n",
       "      <td>2009-09-18 18:32:23</td>\n",
       "      <td>490552</td>\n",
       "    </tr>\n",
       "    <tr>\n",
       "      <th>1</th>\n",
       "      <td>3</td>\n",
       "      <td>not_found</td>\n",
       "      <td>New York</td>\n",
       "      <td>us</td>\n",
       "      <td>New York, NY</td>\n",
       "      <td>2011-01-23 14:13:17</td>\n",
       "      <td>40.72</td>\n",
       "      <td>http://www.meetup.com/members/3</td>\n",
       "      <td>-74.0</td>\n",
       "      <td>Matt Meeker</td>\n",
       "      <td>NY</td>\n",
       "      <td>active</td>\n",
       "      <td>2011-03-20 01:02:11</td>\n",
       "      <td>1474611</td>\n",
       "    </tr>\n",
       "  </tbody>\n",
       "</table>\n",
       "</div>"
      ],
      "text/plain": [
       "   member_id        bio      city country      hometown               joined  \\\n",
       "0          3  not_found  New York      us  New York, NY  2007-05-01 22:04:37   \n",
       "1          3  not_found  New York      us  New York, NY  2011-01-23 14:13:17   \n",
       "\n",
       "     lat                             link   lon  member_name state  \\\n",
       "0  40.72  http://www.meetup.com/members/3 -74.0  Matt Meeker    NY   \n",
       "1  40.72  http://www.meetup.com/members/3 -74.0  Matt Meeker    NY   \n",
       "\n",
       "  member_status              visited  group_id  \n",
       "0        active  2009-09-18 18:32:23    490552  \n",
       "1        active  2011-03-20 01:02:11   1474611  "
      ]
     },
     "execution_count": 3,
     "metadata": {},
     "output_type": "execute_result"
    }
   ],
   "source": [
    "member.head(2)"
   ]
  },
  {
   "cell_type": "code",
   "execution_count": 4,
   "metadata": {},
   "outputs": [
    {
     "data": {
      "text/html": [
       "<div>\n",
       "<style scoped>\n",
       "    .dataframe tbody tr th:only-of-type {\n",
       "        vertical-align: middle;\n",
       "    }\n",
       "\n",
       "    .dataframe tbody tr th {\n",
       "        vertical-align: top;\n",
       "    }\n",
       "\n",
       "    .dataframe thead th {\n",
       "        text-align: right;\n",
       "    }\n",
       "</style>\n",
       "<table border=\"1\" class=\"dataframe\">\n",
       "  <thead>\n",
       "    <tr style=\"text-align: right;\">\n",
       "      <th></th>\n",
       "      <th>event_id</th>\n",
       "      <th>created</th>\n",
       "      <th>description</th>\n",
       "      <th>duration</th>\n",
       "      <th>event_url</th>\n",
       "      <th>fee.accepts</th>\n",
       "      <th>fee.amount</th>\n",
       "      <th>fee.currency</th>\n",
       "      <th>fee.description</th>\n",
       "      <th>fee.label</th>\n",
       "      <th>...</th>\n",
       "      <th>venue.lon</th>\n",
       "      <th>venue.name</th>\n",
       "      <th>venue.phone</th>\n",
       "      <th>venue.repinned</th>\n",
       "      <th>venue.state</th>\n",
       "      <th>venue.zip</th>\n",
       "      <th>visibility</th>\n",
       "      <th>waitlist_count</th>\n",
       "      <th>why</th>\n",
       "      <th>yes_rsvp_count</th>\n",
       "    </tr>\n",
       "  </thead>\n",
       "  <tbody>\n",
       "    <tr>\n",
       "      <th>0</th>\n",
       "      <td>153868222</td>\n",
       "      <td>2013-12-03 21:24:29</td>\n",
       "      <td>Solve the murder case while eating a 3 course ...</td>\n",
       "      <td>20700</td>\n",
       "      <td>https://www.meetup.com/SanFranciscoStartupFun/...</td>\n",
       "      <td>others</td>\n",
       "      <td>0.0</td>\n",
       "      <td>not_found</td>\n",
       "      <td>per person</td>\n",
       "      <td>Price</td>\n",
       "      <td>...</td>\n",
       "      <td>-122.405690</td>\n",
       "      <td>Little Szechuan</td>\n",
       "      <td>-1</td>\n",
       "      <td>1</td>\n",
       "      <td>CA</td>\n",
       "      <td>-1</td>\n",
       "      <td>public</td>\n",
       "      <td>0</td>\n",
       "      <td>not_found</td>\n",
       "      <td>72</td>\n",
       "    </tr>\n",
       "    <tr>\n",
       "      <th>1</th>\n",
       "      <td>184167702</td>\n",
       "      <td>2014-05-20 18:52:00</td>\n",
       "      <td>NOTE: This event is EVERY FRIDAY!! Signup is a...</td>\n",
       "      <td>77400</td>\n",
       "      <td>https://www.meetup.com/hr-and-tech-sf/events/1...</td>\n",
       "      <td>others</td>\n",
       "      <td>0.0</td>\n",
       "      <td>not_found</td>\n",
       "      <td>per person</td>\n",
       "      <td>Price</td>\n",
       "      <td>...</td>\n",
       "      <td>-122.405457</td>\n",
       "      <td>Horizon Lounge</td>\n",
       "      <td>-1</td>\n",
       "      <td>0</td>\n",
       "      <td>CA</td>\n",
       "      <td>-1</td>\n",
       "      <td>public</td>\n",
       "      <td>0</td>\n",
       "      <td>not_found</td>\n",
       "      <td>179</td>\n",
       "    </tr>\n",
       "  </tbody>\n",
       "</table>\n",
       "<p>2 rows × 48 columns</p>\n",
       "</div>"
      ],
      "text/plain": [
       "    event_id              created  \\\n",
       "0  153868222  2013-12-03 21:24:29   \n",
       "1  184167702  2014-05-20 18:52:00   \n",
       "\n",
       "                                         description  duration  \\\n",
       "0  Solve the murder case while eating a 3 course ...     20700   \n",
       "1  NOTE: This event is EVERY FRIDAY!! Signup is a...     77400   \n",
       "\n",
       "                                           event_url fee.accepts  fee.amount  \\\n",
       "0  https://www.meetup.com/SanFranciscoStartupFun/...      others         0.0   \n",
       "1  https://www.meetup.com/hr-and-tech-sf/events/1...      others         0.0   \n",
       "\n",
       "  fee.currency fee.description fee.label  ...   venue.lon       venue.name  \\\n",
       "0    not_found      per person     Price  ... -122.405690  Little Szechuan   \n",
       "1    not_found      per person     Price  ... -122.405457   Horizon Lounge   \n",
       "\n",
       "   venue.phone  venue.repinned  venue.state venue.zip visibility  \\\n",
       "0           -1               1           CA        -1     public   \n",
       "1           -1               0           CA        -1     public   \n",
       "\n",
       "  waitlist_count        why  yes_rsvp_count  \n",
       "0              0  not_found              72  \n",
       "1              0  not_found             179  \n",
       "\n",
       "[2 rows x 48 columns]"
      ]
     },
     "execution_count": 4,
     "metadata": {},
     "output_type": "execute_result"
    }
   ],
   "source": [
    "events.head(2)"
   ]
  },
  {
   "cell_type": "code",
   "execution_count": 5,
   "metadata": {},
   "outputs": [
    {
     "name": "stdout",
     "output_type": "stream",
     "text": [
      "   group_id  member_id   0\n",
      "0    413427    5033164   1\n",
      "1    413427   12142571   1\n",
      "2    413427   31492942  12\n",
      "3    413427   36962882   1\n",
      "4    413427   51417262   1\n",
      "(3039, 3)\n",
      "2958\n"
     ]
    }
   ],
   "source": [
    "#preprocesssing\n",
    "main_data = pd.merge(rsvp, events, on= 'event_id', how='inner') ; main_data.head()\n",
    "temp_data = main_data[['event_id', 'member_id', 'group_id', 'group.name']] ; temp_data.head()\n",
    "main_data_2 =temp_data.groupby(['group_id','member_id']).size().reset_index() ; print (main_data_2.head())\n",
    "print (main_data_2.shape) ; print (main_data_2.member_id.nunique())\n",
    "main_data_2.columns = ['group_id', 'member_id','rsvp_sum']#shows how many events in a group a member has rsvp'ed to"
   ]
  },
  {
   "cell_type": "code",
   "execution_count": 6,
   "metadata": {},
   "outputs": [],
   "source": [
    "#standardizing to 1 - 10 scale \n",
    "main_data_2['rsvp_total'] = 1 + (main_data_2['rsvp_sum']-main_data_2['rsvp_sum'].min())*(10-1)/(main_data_2['rsvp_sum'].max()\\\n",
    "                                                                                                -main_data_2['rsvp_sum'].min())"
   ]
  },
  {
   "cell_type": "code",
   "execution_count": 7,
   "metadata": {},
   "outputs": [],
   "source": [
    "main_data_2.sort_values(by='rsvp_total',ascending=False)\n",
    "data=main_data_2[['group_id','member_id','rsvp_total']]"
   ]
  },
  {
   "cell_type": "code",
   "execution_count": 8,
   "metadata": {},
   "outputs": [],
   "source": [
    "data = main_data_2.dropna()\n",
    "data = data.copy()\n",
    "\n",
    "# Converting the numbers to categories to be used for creating the categorical codes to avoid using long hash keys \n",
    "data['member_id'] = data['member_id'].astype('category')\n",
    "data['group_id'] = data['group_id'].astype('category')\n",
    "\n",
    "#cat.codes creates a categorical id for the users and artists\n",
    "data['user_id'] = data['member_id'].cat.codes\n",
    "data['grp_id'] = data['group_id'].cat.codes"
   ]
  },
  {
   "cell_type": "code",
   "execution_count": 9,
   "metadata": {},
   "outputs": [],
   "source": [
    "users=data[['user_id','grp_id','rsvp_total']]"
   ]
  },
  {
   "cell_type": "markdown",
   "metadata": {},
   "source": [
    "User based collaborative filtering"
   ]
  },
  {
   "cell_type": "code",
   "execution_count": 11,
   "metadata": {},
   "outputs": [],
   "source": [
    "#Create list of groups for each user\n",
    "users_groups=users.groupby('user_id')['grp_id'].apply(list)\n",
    "users_groupslist=users_groups.to_list()"
   ]
  },
  {
   "cell_type": "code",
   "execution_count": 10,
   "metadata": {},
   "outputs": [],
   "source": [
    "#Finding cosine similarity between two vectors\n",
    "def dot(v,w):\n",
    "    \"\"\" v_1*w_1 + ... v_n*w_n\"\"\"\n",
    "    return sum(v_i *w_i\n",
    "              for v_i,w_i in zip(v,w))\n",
    "def cosine_similarity(v, w):\n",
    "    return dot(v, w) / math.sqrt(dot(v, v) * dot(w, w))"
   ]
  },
  {
   "cell_type": "code",
   "execution_count": 12,
   "metadata": {},
   "outputs": [
    {
     "data": {
      "text/plain": [
       "(2958, 47)"
      ]
     },
     "execution_count": 12,
     "metadata": {},
     "output_type": "execute_result"
    }
   ],
   "source": [
    "#Creating user-rsvp matrix for all groups\n",
    "users_df = pd.pivot_table(users, index='user_id', columns='grp_id', values='rsvp_total')\n",
    "users_df.fillna(0,inplace=True)\n",
    "users_df=pd.DataFrame(users_df)\n",
    "users_df.shape"
   ]
  },
  {
   "cell_type": "code",
   "execution_count": 42,
   "metadata": {},
   "outputs": [],
   "source": [
    "#Converting dataframe to list of lists\n",
    "users_df = users_df.rename_axis(None, axis=1)\n",
    "users_list=users_df.values.tolist()"
   ]
  },
  {
   "cell_type": "code",
   "execution_count": 22,
   "metadata": {},
   "outputs": [],
   "source": [
    "#Finding cosine similarity between users\n",
    "import math\n",
    "user_similarities = [[cosine_similarity(group_vector_i, group_vector_j)\n",
    "                      for group_vector_j in users_list]\n",
    "                     for group_vector_i in users_list]"
   ]
  },
  {
   "cell_type": "code",
   "execution_count": 23,
   "metadata": {},
   "outputs": [],
   "source": [
    "#Finding most similar users\n",
    "def most_similar_users_to(user_id):\n",
    "    pairs = [(other_user_id, similarity)              \n",
    "             for other_user_id, similarity in         \n",
    "                enumerate(user_similarities[user_id]) \n",
    "             if user_id != other_user_id and similarity > 0]\n",
    "\n",
    "    return sorted(pairs,                              \n",
    "                  key=lambda pair: pair[1],           \n",
    "                  reverse=True) "
   ]
  },
  {
   "cell_type": "code",
   "execution_count": 224,
   "metadata": {},
   "outputs": [],
   "source": [
    "#Finding group suggestions based on similar users\n",
    "from collections import defaultdict, Counter\n",
    "def user_based_suggestions(user_id, include_current_groups=True):\n",
    "    suggestions = defaultdict(float)\n",
    "    for other_user_id, similarity in most_similar_users_to(user_id):\n",
    "        for groups in users_groupslist[other_user_id]:\n",
    "            suggestions[groups] += similarity\n",
    "\n",
    "    suggestions = sorted(suggestions.items(),\n",
    "                         key=lambda pair: pair[1],\n",
    "                         reverse=True)\n",
    "    \n",
    "    if include_current_groups:\n",
    "        return suggestions\n",
    "    else:\n",
    "        return [(suggestion, weight)\n",
    "                for suggestion, weight in suggestions\n",
    "                    if suggestion not in users_groupslist[user_id]]"
   ]
  },
  {
   "cell_type": "code",
   "execution_count": 243,
   "metadata": {},
   "outputs": [
    {
     "data": {
      "text/plain": [
       "[(35, 100.09352357598202),\n",
       " (11, 2.227053698519673),\n",
       " (40, 2.116344055900802),\n",
       " (18, 0.7501258215615596)]"
      ]
     },
     "execution_count": 243,
     "metadata": {},
     "output_type": "execute_result"
    }
   ],
   "source": [
    "user_based_suggestions(1429)"
   ]
  },
  {
   "cell_type": "code",
   "execution_count": 244,
   "metadata": {},
   "outputs": [],
   "source": [
    "#Finding top groups for each user\n",
    "top_tuple=user_based_suggestions(1429)[0:5]\n",
    "top_list=[x[0] for x in top_tuple]"
   ]
  },
  {
   "cell_type": "code",
   "execution_count": 245,
   "metadata": {},
   "outputs": [],
   "source": [
    "top_groups=data[data['grp_id'].isin(top_list)]['group_id'].unique()\n",
    "top_groupnames=events[events['group_id'].isin(top_groups)]['group.name']\n",
    "top_groupnames=top_groupnames.unique()"
   ]
  },
  {
   "cell_type": "code",
   "execution_count": 246,
   "metadata": {},
   "outputs": [
    {
     "name": "stdout",
     "output_type": "stream",
     "text": [
      "Recommendations based on user based collaborative filtering:\n",
      "Women Organize For Success - Meetup\n",
      "Lexington/Vanderbilt toastmasters public speaking Meetup\n",
      "Bryant Park Toastmasters\n",
      "SEO and Social Media Marketing Academy\n"
     ]
    }
   ],
   "source": [
    "print(\"Recommendations based on user based collaborative filtering:\")\n",
    "for i in range(len(top_groupnames)):\n",
    "    print(top_groupnames[i])"
   ]
  },
  {
   "cell_type": "markdown",
   "metadata": {},
   "source": [
    "Item based collaborative filtering"
   ]
  },
  {
   "cell_type": "code",
   "execution_count": 14,
   "metadata": {},
   "outputs": [],
   "source": [
    "#Creating group-rating matrix for all users\n",
    "groups_list_new=[]\n",
    "groups_df = pd.pivot_table(users, index='grp_id', columns='user_id', values='rsvp_total')\n",
    "groups_df.fillna(0,inplace=True)\n",
    "groups_df=pd.DataFrame(groups_df)\n",
    "groups_df = groups_df.rename_axis(None, axis=1)\n",
    "groups_list=groups_df.values.tolist()"
   ]
  },
  {
   "cell_type": "code",
   "execution_count": 15,
   "metadata": {},
   "outputs": [],
   "source": [
    "#Creating complete list of unique groups across all users\n",
    "flat_list = [item for sublist in users_groupslist for item in sublist]\n",
    "list_set = set(flat_list) \n",
    "unique_list = (list(list_set)) "
   ]
  },
  {
   "cell_type": "code",
   "execution_count": 47,
   "metadata": {},
   "outputs": [],
   "source": [
    "import math\n",
    "#Finding cosine similarity between movies\n",
    "group_similarities = [[cosine_similarity(user_vector_i, user_vector_j)\n",
    "                          for user_vector_j in groups_list]\n",
    "                          for user_vector_i in groups_list]"
   ]
  },
  {
   "cell_type": "code",
   "execution_count": 48,
   "metadata": {},
   "outputs": [],
   "source": [
    "#Finding most similar groups\n",
    "def most_similar_groups_to(group_id):\n",
    "    similarities = group_similarities[group_id]\n",
    "    pairs = [(unique_list[other_group_id], similarity)\n",
    "             for other_group_id, similarity in enumerate(similarities)\n",
    "             if group_id != other_group_id and similarity > 0]\n",
    "    return sorted(pairs,\n",
    "                  key=lambda pair: pair[1],\n",
    "                  reverse=True)"
   ]
  },
  {
   "cell_type": "code",
   "execution_count": 49,
   "metadata": {},
   "outputs": [],
   "source": [
    "#Finding group suggestions\n",
    "from collections import defaultdict, Counter\n",
    "def group_based_suggestions(user_id, include_current_groups=True):\n",
    "    suggestions = defaultdict(float)\n",
    "    user_vector=users_list[user_id]\n",
    "    for group_id, rsvp_count in enumerate(user_vector):\n",
    "        if rsvp_count!=0:\n",
    "            similar_groups=most_similar_groups_to(group_id)\n",
    "            for groups,similarity in similar_groups:\n",
    "                suggestions[groups] += similarity\n",
    "\n",
    "    suggestions = sorted(suggestions.items(),\n",
    "                         key=lambda pair: pair[1],\n",
    "                         reverse=True)\n",
    "    \n",
    "    if include_current_groups:\n",
    "        return suggestions\n",
    "    else:\n",
    "        return [(suggestion, weight)\n",
    "                for suggestion, weight in suggestions\n",
    "                    if suggestion not in users_groupslist[user_id]]"
   ]
  },
  {
   "cell_type": "code",
   "execution_count": 50,
   "metadata": {},
   "outputs": [],
   "source": [
    "#Finding top 5 movie names from movies dataframe\n",
    "top_tuple=group_based_suggestions(1429)[0:5]\n",
    "top_list=[x[0] for x in top_tuple]\n",
    "top_groups=data[data['grp_id'].isin(top_list)]['group_id'].unique()\n",
    "top_groupnames=events[events['group_id'].isin(top_groups)]['group.name']\n",
    "top_groupnames=top_groupnames.unique()"
   ]
  },
  {
   "cell_type": "code",
   "execution_count": 51,
   "metadata": {},
   "outputs": [
    {
     "name": "stdout",
     "output_type": "stream",
     "text": [
      "Recommendations based on item based collaborative filtering:\n",
      "Women Organize For Success - Meetup\n",
      "Lexington/Vanderbilt toastmasters public speaking Meetup\n",
      "SEO and Social Media Marketing Academy\n"
     ]
    }
   ],
   "source": [
    "print(\"Recommendations based on item based collaborative filtering:\")\n",
    "for i in range(len(top_groupnames)):\n",
    "    print(top_groupnames[i])"
   ]
  },
  {
   "cell_type": "code",
   "execution_count": null,
   "metadata": {},
   "outputs": [],
   "source": []
  }
 ],
 "metadata": {
  "kernelspec": {
   "display_name": "Python 3",
   "language": "python",
   "name": "python3"
  },
  "language_info": {
   "codemirror_mode": {
    "name": "ipython",
    "version": 3
   },
   "file_extension": ".py",
   "mimetype": "text/x-python",
   "name": "python",
   "nbconvert_exporter": "python",
   "pygments_lexer": "ipython3",
   "version": "3.7.3"
  }
 },
 "nbformat": 4,
 "nbformat_minor": 2
}
